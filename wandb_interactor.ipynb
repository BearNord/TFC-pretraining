{
 "cells": [
  {
   "cell_type": "code",
   "execution_count": 1,
   "metadata": {},
   "outputs": [],
   "source": [
    "import wandb\n",
    "import datetime\n",
    "import itertools as it\n",
    "\n",
    "import matplotlib.pyplot as plt\n",
    "import matplotlib\n",
    "import seaborn as sns\n",
    "import numpy as np\n",
    "\n",
    "api = wandb.Api()\n",
    "#run = api.run(f\"marauders/TFC_pre-training/kkq3pnzk\")\n"
   ]
  },
  {
   "cell_type": "code",
   "execution_count": 2,
   "metadata": {},
   "outputs": [],
   "source": [
    "def plot_results(data1, data2, data3, data4):\n",
    "\n",
    "    # Define subplot sizes\n",
    "    print(\"shape of 0: \", data1.shape)\n",
    "    print(\"shape of 1: \", data2.shape)\n",
    "    print(\"shape of 2: \", data3.shape)\n",
    "    print(\"shape of 3: \", data4.shape)\n",
    "\n",
    "    subplot_sizes = [(1, 4), (4, 4), (1, 4), (1, 1)]  # (height, width) for each subplot\n",
    "\n",
    "    # Create a figure and subplots with specified sizes\n",
    "    fig, axes = plt.subplots(4, 1, figsize=(4, 4), gridspec_kw={'height_ratios': [size[0] for size in subplot_sizes]})\n",
    "\n",
    "    # Combine data from all plots to find common vmin and vmax\n",
    "    all_data = np.concatenate([data1.flatten(), data2.flatten(), data3.flatten(), data4.flatten()])\n",
    "    vmin = np.min(all_data)\n",
    "    vmax = np.max(all_data)\n",
    "\n",
    "    # Plot heat maps with adjusted aspect ratio\n",
    "    im1 = axes[0].imshow(data1, cmap = 'hot', norm = \"linear\", interpolation = 'nearest', aspect = \"auto\", vmin = vmin, vmax = vmax)\n",
    "    im2 = axes[1].imshow(data2, cmap = 'hot', norm = \"linear\", interpolation = 'nearest', aspect = \"auto\", vmin = vmin, vmax = vmax)\n",
    "    im3 = axes[2].imshow(data3, cmap = 'hot', norm = \"linear\", interpolation = 'nearest', aspect = \"auto\", vmin = vmin, vmax = vmax)\n",
    "    im4 = axes[3].imshow(data4, cmap = 'hot', norm = \"linear\", interpolation = 'nearest', aspect = 'equal', vmin = vmin, vmax = vmax)\n",
    "\n",
    "    # TODO labels for plots, probably with A, B, C, D\n",
    "\n",
    "    # Add colorbar\n",
    "    plt.colorbar(im2, ax = axes, orientation = 'vertical')\n",
    "\n",
    "    # Adjust layout\n",
    "    # plt.tight_layout()\n",
    "\n",
    "    # Show plot\n",
    "    plt.show()"
   ]
  },
  {
   "cell_type": "code",
   "execution_count": 3,
   "metadata": {},
   "outputs": [],
   "source": [
    "def get_experiments(datasets, dt = datetime.datetime(2024,4,1)):\n",
    "    filters = {\n",
    "        \"summary_metrics.pre_train_dataset\" : datasets,             # Datasets to collect\n",
    "        \"summary_metrics.mode\": \"fine_tune_test\",                   # During fine_tune_test\n",
    "        \"summary_metrics._timestamp\" : {\"$gte\" : dt.timestamp()} }  # The run was created after\n",
    "    \n",
    "    runs = api.runs(path = \"marauders/TFC_pre-training\", filters = filters) \n",
    "\n",
    "    return runs"
   ]
  },
  {
   "cell_type": "code",
   "execution_count": 4,
   "metadata": {},
   "outputs": [],
   "source": [
    "def get_avg_auc(runs):\n",
    "    avg_auc = []\n",
    "    for run in runs:\n",
    "        curr_auc = run.summary['test/metrics/total_auc']\n",
    "        avg_auc.append(curr_auc)\n",
    "\n",
    "    if len(avg_auc): \n",
    "        return sum(avg_auc)/len(avg_auc)\n",
    "    else: return 0"
   ]
  },
  {
   "cell_type": "code",
   "execution_count": 5,
   "metadata": {},
   "outputs": [],
   "source": [
    "def experiment():\n",
    "    datasets = [\"SleepEEG\", \"FD_A\", \"HAR\", \"ECG\"]\n",
    "\n",
    "    single_dataset_runs = [get_experiments([ds]) for ds in datasets]\n",
    "    double_dataset_runs = [get_experiments(pair) for pair in it.product(datasets, datasets)]\n",
    "    triple_dataset_runs = [get_experiments(triplet) for triplet in it.combinations(datasets, 3)]\n",
    "    all_dataset_runs    = [get_experiments(datasets)]\n",
    "\n",
    "    single_dataset_auc = np.array( [get_avg_auc(runs) for runs in single_dataset_runs] ).reshape(1,4)\n",
    "    double_dataset_auc = np.array( [get_avg_auc(runs) for runs in double_dataset_runs] ).reshape(4,4)\n",
    "    triple_dataset_auc = np.array( [get_avg_auc(runs) for runs in triple_dataset_runs] ).reshape(1,4)\n",
    "    all_dataset_auc = np.array( [get_avg_auc(runs) for runs in all_dataset_runs] ).reshape(1,1)\n",
    "\n",
    "    plot_results(single_dataset_auc, double_dataset_auc, triple_dataset_auc, all_dataset_auc)"
   ]
  },
  {
   "cell_type": "code",
   "execution_count": 6,
   "metadata": {},
   "outputs": [
    {
     "name": "stdout",
     "output_type": "stream",
     "text": [
      "shape of 0:  (1, 4)\n",
      "shape of 1:  (4, 4)\n",
      "shape of 2:  (1, 4)\n",
      "shape of 3:  (1, 1)\n"
     ]
    },
    {
     "data": {
      "image/png": "[encoded data removed]",
      "text/plain": [
       "<Figure size 400x400 with 5 Axes>"
      ]
     },
     "metadata": {},
     "output_type": "display_data"
    }
   ],
   "source": [
    "experiment()"
   ]
  },
  {
   "cell_type": "code",
   "execution_count": 22,
   "metadata": {},
   "outputs": [
    {
     "name": "stdout",
     "output_type": "stream",
     "text": [
      "('SleepEEG', 'FD_A', 'HAR')\n",
      "('SleepEEG', 'FD_A', 'ECG')\n",
      "('SleepEEG', 'HAR', 'ECG')\n",
      "('FD_A', 'HAR', 'ECG')\n",
      "[[\"('SleepEEG', 'FD_A', 'HAR')\" \"('SleepEEG', 'FD_A', 'ECG')\"\n",
      "  \"('SleepEEG', 'HAR', 'ECG')\" \"('FD_A', 'HAR', 'ECG')\"]]\n"
     ]
    }
   ],
   "source": [
    "datasets = [\"SleepEEG\", \"FD_A\", \"HAR\", \"ECG\"]\n",
    "list_of_datasets = []\n",
    "\n",
    "for pair in it.combinations(datasets, 3):\n",
    "    print(pair)\n",
    "    list_of_datasets.append(f\"{pair}\")\n",
    "\n",
    "array_of_datasets = np.array( list_of_datasets ).reshape(1,4)\n",
    "print(array_of_datasets)"
   ]
  },
  {
   "cell_type": "code",
   "execution_count": null,
   "metadata": {},
   "outputs": [],
   "source": [
    "    # Generate random data\n",
    "    # data1 = np.random.rand(1, 4)\n",
    "    # data2 = np.random.rand(4, 4)\n",
    "    # data3 = np.random.rand(1, 4)\n",
    "    # data4 = np.random.rand(1, 1)"
   ]
  }
 ],
 "metadata": {
  "kernelspec": {
   "display_name": "neptunelippi",
   "language": "python",
   "name": "python3"
  },
  "language_info": {
   "codemirror_mode": {
    "name": "ipython",
    "version": 3
   },
   "file_extension": ".py",
   "mimetype": "text/x-python",
   "name": "python",
   "nbconvert_exporter": "python",
   "pygments_lexer": "ipython3",
   "version": "3.9.7"
  }
 },
 "nbformat": 4,
 "nbformat_minor": 2
}
